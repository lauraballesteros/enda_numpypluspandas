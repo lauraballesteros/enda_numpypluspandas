{
  "nbformat": 4,
  "nbformat_minor": 0,
  "metadata": {
    "colab": {
      "name": "Numpy_Excercises_Session_1 (1).ipynb",
      "provenance": [],
      "toc_visible": true,
      "include_colab_link": true
    },
    "kernelspec": {
      "display_name": "Python 3",
      "language": "python",
      "name": "python3"
    },
    "language_info": {
      "codemirror_mode": {
        "name": "ipython",
        "version": 3
      },
      "file_extension": ".py",
      "mimetype": "text/x-python",
      "name": "python",
      "nbconvert_exporter": "python",
      "pygments_lexer": "ipython3",
      "version": "3.8.3"
    }
  },
  "cells": [
    {
      "cell_type": "markdown",
      "metadata": {
        "id": "view-in-github",
        "colab_type": "text"
      },
      "source": [
        "<a href=\"https://colab.research.google.com/github/lauraballesteros/enda_numpypluspandas/blob/numpy/Numpy_Excercises_Session_1_(1).ipynb\" target=\"_parent\"><img src=\"https://colab.research.google.com/assets/colab-badge.svg\" alt=\"Open In Colab\"/></a>"
      ]
    },
    {
      "cell_type": "code",
      "metadata": {
        "colab_type": "code",
        "id": "Zp_uIJaWawnF",
        "colab": {}
      },
      "source": [
        "import numpy as np\n",
        "from PIL import Image\n",
        "import matplotlib.pyplot as plt\n",
        "import matplotlib.image as mpimg\n",
        "import random\n",
        "from time import time"
      ],
      "execution_count": null,
      "outputs": []
    },
    {
      "cell_type": "markdown",
      "metadata": {
        "colab_type": "text",
        "id": "SFNqxbXPIbid"
      },
      "source": [
        "# Numpy Excercises - Session 1\n",
        "\n",
        "\n",
        "\n",
        "\n",
        "\n",
        "\n",
        "\n",
        "\n",
        "\n",
        "\n",
        "\n"
      ]
    },
    {
      "cell_type": "markdown",
      "metadata": {
        "colab_type": "text",
        "id": "wwGDpJvudrZE"
      },
      "source": [
        "## Creating arrays.\n",
        "### Exercise 1 \n",
        "Create an int array from the list [2.4, 5, 7.8, 25]"
      ]
    },
    {
      "cell_type": "code",
      "metadata": {
        "colab_type": "code",
        "id": "qPb19ojxdwsi",
        "colab": {},
        "outputId": "376f053c-bea0-47fb-ea16-51ac47c8942f"
      },
      "source": [
        "list_1 = [2.4, 5, 7.8, 25]\n",
        "array_1 = np.array(list_1,dtype=int)\n",
        "array_1"
      ],
      "execution_count": null,
      "outputs": [
        {
          "output_type": "execute_result",
          "data": {
            "text/plain": [
              "array([ 2,  5,  7, 25])"
            ]
          },
          "metadata": {
            "tags": []
          },
          "execution_count": 4
        }
      ]
    },
    {
      "cell_type": "markdown",
      "metadata": {
        "colab_type": "text",
        "id": "Gx8uMKzYeLkL"
      },
      "source": [
        "### Exercise 2  \n",
        "Create an float array from the list [-2, 3, 4, 7, 1, 9]"
      ]
    },
    {
      "cell_type": "code",
      "metadata": {
        "colab_type": "code",
        "id": "tdIUSUVEeYQw",
        "colab": {},
        "outputId": "fed28b36-9075-41c8-f948-d38a34d9d875"
      },
      "source": [
        "list_2 = [-2, 3, 4, 7, 1, 9]\n",
        "array_2 = np.array(list_2,dtype=float)\n",
        "array_2"
      ],
      "execution_count": null,
      "outputs": [
        {
          "output_type": "execute_result",
          "data": {
            "text/plain": [
              "array([-2.,  3.,  4.,  7.,  1.,  9.])"
            ]
          },
          "metadata": {
            "tags": []
          },
          "execution_count": 5
        }
      ]
    },
    {
      "cell_type": "markdown",
      "metadata": {
        "colab_type": "text",
        "id": "72VA01pzeSy8"
      },
      "source": [
        "### Exercise 3. \n",
        "Create a length-30 integer array filled with zeros.\n"
      ]
    },
    {
      "cell_type": "code",
      "metadata": {
        "colab_type": "code",
        "id": "tFwom_nleptc",
        "colab": {},
        "outputId": "f7120756-13ca-488c-f1c8-3900de227055"
      },
      "source": [
        "array_3 = np.zeros(30, dtype=int)\n",
        "array_3"
      ],
      "execution_count": null,
      "outputs": [
        {
          "output_type": "execute_result",
          "data": {
            "text/plain": [
              "array([0, 0, 0, 0, 0, 0, 0, 0, 0, 0, 0, 0, 0, 0, 0, 0, 0, 0, 0, 0, 0, 0,\n",
              "       0, 0, 0, 0, 0, 0, 0, 0])"
            ]
          },
          "metadata": {
            "tags": []
          },
          "execution_count": 6
        }
      ]
    },
    {
      "cell_type": "markdown",
      "metadata": {
        "colab_type": "text",
        "id": "kV-QM3jJeSpM"
      },
      "source": [
        "### Exercise 4. \n",
        "\n",
        "Create a 7x5 floating-point array filled with 1s.\n",
        "\n"
      ]
    },
    {
      "cell_type": "code",
      "metadata": {
        "colab_type": "code",
        "id": "5efUe_3te-Hd",
        "colab": {},
        "outputId": "35bd32da-5b96-43ad-cde9-a0865553a2d6"
      },
      "source": [
        "array_4 = np.ones([7,5])\n",
        "array_4"
      ],
      "execution_count": null,
      "outputs": [
        {
          "output_type": "execute_result",
          "data": {
            "text/plain": [
              "array([[1., 1., 1., 1., 1.],\n",
              "       [1., 1., 1., 1., 1.],\n",
              "       [1., 1., 1., 1., 1.],\n",
              "       [1., 1., 1., 1., 1.],\n",
              "       [1., 1., 1., 1., 1.],\n",
              "       [1., 1., 1., 1., 1.],\n",
              "       [1., 1., 1., 1., 1.]])"
            ]
          },
          "metadata": {
            "tags": []
          },
          "execution_count": 7
        }
      ]
    },
    {
      "cell_type": "markdown",
      "metadata": {
        "colab_type": "text",
        "id": "ql38n6g4eSgy"
      },
      "source": [
        "### Exercise 5.\n",
        "\n",
        "Create a 16x16 array filled with 3.14"
      ]
    },
    {
      "cell_type": "code",
      "metadata": {
        "colab_type": "code",
        "id": "w2ZMME1wfR4t",
        "colab": {},
        "outputId": "d9a5e737-1e8a-4436-82e7-93c68a501b23"
      },
      "source": [
        "array_5 = np.full((16,16),3.14)\n",
        "array_5"
      ],
      "execution_count": null,
      "outputs": [
        {
          "output_type": "execute_result",
          "data": {
            "text/plain": [
              "array([[3.14, 3.14, 3.14, 3.14, 3.14, 3.14, 3.14, 3.14, 3.14, 3.14, 3.14,\n",
              "        3.14, 3.14, 3.14, 3.14, 3.14],\n",
              "       [3.14, 3.14, 3.14, 3.14, 3.14, 3.14, 3.14, 3.14, 3.14, 3.14, 3.14,\n",
              "        3.14, 3.14, 3.14, 3.14, 3.14],\n",
              "       [3.14, 3.14, 3.14, 3.14, 3.14, 3.14, 3.14, 3.14, 3.14, 3.14, 3.14,\n",
              "        3.14, 3.14, 3.14, 3.14, 3.14],\n",
              "       [3.14, 3.14, 3.14, 3.14, 3.14, 3.14, 3.14, 3.14, 3.14, 3.14, 3.14,\n",
              "        3.14, 3.14, 3.14, 3.14, 3.14],\n",
              "       [3.14, 3.14, 3.14, 3.14, 3.14, 3.14, 3.14, 3.14, 3.14, 3.14, 3.14,\n",
              "        3.14, 3.14, 3.14, 3.14, 3.14],\n",
              "       [3.14, 3.14, 3.14, 3.14, 3.14, 3.14, 3.14, 3.14, 3.14, 3.14, 3.14,\n",
              "        3.14, 3.14, 3.14, 3.14, 3.14],\n",
              "       [3.14, 3.14, 3.14, 3.14, 3.14, 3.14, 3.14, 3.14, 3.14, 3.14, 3.14,\n",
              "        3.14, 3.14, 3.14, 3.14, 3.14],\n",
              "       [3.14, 3.14, 3.14, 3.14, 3.14, 3.14, 3.14, 3.14, 3.14, 3.14, 3.14,\n",
              "        3.14, 3.14, 3.14, 3.14, 3.14],\n",
              "       [3.14, 3.14, 3.14, 3.14, 3.14, 3.14, 3.14, 3.14, 3.14, 3.14, 3.14,\n",
              "        3.14, 3.14, 3.14, 3.14, 3.14],\n",
              "       [3.14, 3.14, 3.14, 3.14, 3.14, 3.14, 3.14, 3.14, 3.14, 3.14, 3.14,\n",
              "        3.14, 3.14, 3.14, 3.14, 3.14],\n",
              "       [3.14, 3.14, 3.14, 3.14, 3.14, 3.14, 3.14, 3.14, 3.14, 3.14, 3.14,\n",
              "        3.14, 3.14, 3.14, 3.14, 3.14],\n",
              "       [3.14, 3.14, 3.14, 3.14, 3.14, 3.14, 3.14, 3.14, 3.14, 3.14, 3.14,\n",
              "        3.14, 3.14, 3.14, 3.14, 3.14],\n",
              "       [3.14, 3.14, 3.14, 3.14, 3.14, 3.14, 3.14, 3.14, 3.14, 3.14, 3.14,\n",
              "        3.14, 3.14, 3.14, 3.14, 3.14],\n",
              "       [3.14, 3.14, 3.14, 3.14, 3.14, 3.14, 3.14, 3.14, 3.14, 3.14, 3.14,\n",
              "        3.14, 3.14, 3.14, 3.14, 3.14],\n",
              "       [3.14, 3.14, 3.14, 3.14, 3.14, 3.14, 3.14, 3.14, 3.14, 3.14, 3.14,\n",
              "        3.14, 3.14, 3.14, 3.14, 3.14],\n",
              "       [3.14, 3.14, 3.14, 3.14, 3.14, 3.14, 3.14, 3.14, 3.14, 3.14, 3.14,\n",
              "        3.14, 3.14, 3.14, 3.14, 3.14]])"
            ]
          },
          "metadata": {
            "tags": []
          },
          "execution_count": 8
        }
      ]
    },
    {
      "cell_type": "markdown",
      "metadata": {
        "colab_type": "text",
        "id": "m5Sy8Y_LeSX-"
      },
      "source": [
        "### Exercise 6.\n",
        "\n",
        "Create an array filled with a linear sequence starting at 0, ending at 90, stepping by 3"
      ]
    },
    {
      "cell_type": "code",
      "metadata": {
        "colab_type": "code",
        "id": "8hX5cEQyfbp1",
        "colab": {},
        "outputId": "662e1808-fd62-4f9d-ee17-98ff13bf107c"
      },
      "source": [
        "array_6 = np.arange(0,90,3)\n",
        "array_6"
      ],
      "execution_count": null,
      "outputs": [
        {
          "output_type": "execute_result",
          "data": {
            "text/plain": [
              "array([ 0,  3,  6,  9, 12, 15, 18, 21, 24, 27, 30, 33, 36, 39, 42, 45, 48,\n",
              "       51, 54, 57, 60, 63, 66, 69, 72, 75, 78, 81, 84, 87])"
            ]
          },
          "metadata": {
            "tags": []
          },
          "execution_count": 9
        }
      ]
    },
    {
      "cell_type": "markdown",
      "metadata": {
        "colab_type": "text",
        "id": "oeLj8U3SeSMI"
      },
      "source": [
        "### Exercise 7.\n",
        "\n",
        "Create an array of 10 values evenly spaced between 0 and 3"
      ]
    },
    {
      "cell_type": "code",
      "metadata": {
        "colab_type": "code",
        "id": "tWF9w-VXgvhp",
        "colab": {},
        "outputId": "06894d3d-a31c-42a0-e1ea-e9b208eee56c"
      },
      "source": [
        "array_7 = np.linspace(0,3,10)\n",
        "array_7"
      ],
      "execution_count": null,
      "outputs": [
        {
          "output_type": "execute_result",
          "data": {
            "text/plain": [
              "array([0.        , 0.33333333, 0.66666667, 1.        , 1.33333333,\n",
              "       1.66666667, 2.        , 2.33333333, 2.66666667, 3.        ])"
            ]
          },
          "metadata": {
            "tags": []
          },
          "execution_count": 10
        }
      ]
    },
    {
      "cell_type": "markdown",
      "metadata": {
        "colab_type": "text",
        "id": "vaYFRbKJglra"
      },
      "source": [
        "### Exercise 8.\n",
        "\n",
        "Create a 5x5 array of random integers in the interval [0, 10)"
      ]
    },
    {
      "cell_type": "code",
      "metadata": {
        "colab_type": "code",
        "id": "Db4MwoZOg-NY",
        "colab": {},
        "outputId": "1610b0e2-5a09-424e-a254-c21dc137eb31"
      },
      "source": [
        "array_8 = np.random.randint(10,size=(5,5))\n",
        "array_8"
      ],
      "execution_count": null,
      "outputs": [
        {
          "output_type": "execute_result",
          "data": {
            "text/plain": [
              "array([[4, 2, 3, 6, 6],\n",
              "       [6, 0, 9, 0, 7],\n",
              "       [2, 3, 7, 8, 7],\n",
              "       [7, 6, 4, 0, 5],\n",
              "       [4, 5, 4, 7, 2]])"
            ]
          },
          "metadata": {
            "tags": []
          },
          "execution_count": 11
        }
      ]
    },
    {
      "cell_type": "markdown",
      "metadata": {
        "colab_type": "text",
        "id": "xY2cCnLIglmi"
      },
      "source": [
        "## Python lists vs Numpy arrays.\n",
        "\n"
      ]
    },
    {
      "cell_type": "markdown",
      "metadata": {
        "colab_type": "text",
        "id": "mvk7Zw9IglgH"
      },
      "source": [
        "### Exercise 9.  \n",
        "\n",
        "Calculating procesing time for python list creation \n",
        "\n",
        "\n",
        "\n",
        "```\n",
        "* Create a python list with numbers from 0 to 6 millions steping by 500.000 and stored in a list called `steps`.\n",
        "* Iterate over the `steps`.\n",
        "* For each iteration, create a python list of 6 million elements with numbers betweent 1 and 10 and calculate how many seconds it took to create that list.\n",
        "* Add the calculated time to a python list called `op_time_list`\n",
        "* Print first 10 elements from `op_time_list`\n",
        "```\n",
        "\n",
        " \n",
        "  "
      ]
    },
    {
      "cell_type": "code",
      "metadata": {
        "colab_type": "code",
        "id": "US4KYoXyiGmt",
        "scrolled": false,
        "colab": {},
        "outputId": "2a89acda-0ad5-4418-a6b6-99fed103f5f9"
      },
      "source": [
        "# Write your code here.\n",
        "op_list_time=[]\n",
        "steps=[i for i in range(0,6000000,500000)]\n",
        "len(steps)\n",
        "for _ in steps:\n",
        "    start=time()\n",
        "    this=[random.randrange(1,10) for i in range (0,6000000)]\n",
        "    end=time()-start\n",
        "    op_list_time.append(end)\n",
        "print(op_list_time)"
      ],
      "execution_count": null,
      "outputs": [
        {
          "output_type": "stream",
          "text": [
            "[10.706104516983032, 11.073021411895752, 10.919002056121826, 10.843762636184692, 10.995572090148926, 11.05055046081543, 10.951947450637817, 10.597259044647217, 10.81193733215332, 10.886510848999023, 10.02018404006958, 10.308160066604614]\n"
          ],
          "name": "stdout"
        }
      ]
    },
    {
      "cell_type": "markdown",
      "metadata": {
        "colab_type": "text",
        "id": "31D3p6atglbL"
      },
      "source": [
        "### Exercise 10.\n",
        "\n",
        "Calculating procesing time for numpy array creation\n",
        "        \n",
        "\n",
        "```\n",
        "* Iterate over the `steps`.\n",
        "* For each iteration, create a numpy array of 6 million elements with numbers betweent 1 and 10 and calculate how many seconds it took to create that array.\n",
        "* Add the calculated time to a python list called `op_time_numpy`\n",
        "* Print first 10 elements from `op_time_numpy`\n",
        "```\n",
        "\n"
      ]
    },
    {
      "cell_type": "code",
      "metadata": {
        "scrolled": true,
        "id": "MiIVvPy1VQid",
        "colab_type": "code",
        "colab": {},
        "outputId": "2f28bcc5-af5d-4bbd-9bb6-c6a2de34d65f"
      },
      "source": [
        "# Write your code here.\n",
        "op_np_time=[]\n",
        "steps = np.arange(0,6000000,500000)\n",
        "for _ in steps:\n",
        "    start=time()\n",
        "    this=(np.random.randint(1,10) for i in range (0,6000000))\n",
        "    end=time()-start\n",
        "    op_np_time.append(end)\n",
        "print(op_np_time)"
      ],
      "execution_count": null,
      "outputs": [
        {
          "output_type": "stream",
          "text": [
            "[0.014937162399291992, 0.0, 0.0, 0.0, 0.0, 0.0, 0.0, 0.0, 0.0, 0.0, 0.0, 0.0]\n"
          ],
          "name": "stdout"
        }
      ]
    },
    {
      "cell_type": "markdown",
      "metadata": {
        "colab_type": "text",
        "id": "zYXhagBsglWj"
      },
      "source": [
        "### Exercise 11.\n",
        "\n",
        "Compare `op_time_list` with `op_time_numpy` "
      ]
    },
    {
      "cell_type": "code",
      "metadata": {
        "colab_type": "code",
        "id": "IGqYX0ukkJw7",
        "colab": {},
        "outputId": "9970fe2d-8f8d-4978-843f-a5c033e21176"
      },
      "source": [
        "# No code required here.\n",
        "# Just run this cell :).\n",
        "\n",
        "fig = plt.figure(figsize=(15, 5))\n",
        "plt.plot(steps, op_list_time, '-b', label='Python lists')\n",
        "plt.plot(steps, op_np_time, '--g', label='Numpy arrays')\n",
        "\n",
        "plt.legend();\n"
      ],
      "execution_count": null,
      "outputs": [
        {
          "output_type": "display_data",
          "data": {
            "image/png": "[encoded data removed]",
            "text/plain": [
              "<Figure size 1080x360 with 1 Axes>"
            ]
          },
          "metadata": {
            "tags": [],
            "needs_background": "light"
          }
        }
      ]
    },
    {
      "cell_type": "markdown",
      "metadata": {
        "colab_type": "text",
        "id": "4KPuFWXyglRo"
      },
      "source": [
        "## Challenge: Slicing Image layers.\n",
        "\n",
        "**Extract RGB layers from an image.**\n"
      ]
    },
    {
      "cell_type": "code",
      "metadata": {
        "colab_type": "code",
        "id": "5cAVa_aSIXzm",
        "colab": {}
      },
      "source": [
        "im = np.array(Image.open('C:/Users/lballesteros/Downloads/internship/640px-Bucephala-albeola-010.jpg'))\n",
        "im.shape"
      ],
      "execution_count": null,
      "outputs": []
    },
    {
      "cell_type": "code",
      "metadata": {
        "colab_type": "code",
        "id": "mcrnFtmpZkry",
        "colab": {}
      },
      "source": [
        "def plot_image_channel(shape, channel, img_channel):\n",
        "  temp = np.zeros(shape, dtype='uint8')\n",
        "  temp[:, :, channel] = img_channel\n",
        "  plt.imshow(temp);"
      ],
      "execution_count": null,
      "outputs": []
    },
    {
      "cell_type": "code",
      "metadata": {
        "colab_type": "code",
        "id": "hy8eiQ2La7tz",
        "colab": {}
      },
      "source": [
        "red_channel = []\n",
        "plot_image_channel(im.shape, 0, red_channel)"
      ],
      "execution_count": null,
      "outputs": []
    },
    {
      "cell_type": "code",
      "metadata": {
        "colab_type": "code",
        "id": "C3sQc8xTZu2W",
        "colab": {}
      },
      "source": [
        "green_channel = []\n",
        "plot_image_channel(im.shape, 1, green_channel)"
      ],
      "execution_count": null,
      "outputs": []
    },
    {
      "cell_type": "code",
      "metadata": {
        "colab_type": "code",
        "id": "cUw1ICjqcG0n",
        "colab": {}
      },
      "source": [
        "blue_channel = []\n",
        "plot_image_channel(im.shape, 2, blue_channel)"
      ],
      "execution_count": null,
      "outputs": []
    }
  ]
}