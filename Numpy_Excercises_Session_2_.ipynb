{
  "nbformat": 4,
  "nbformat_minor": 0,
  "metadata": {
    "colab": {
      "name": "Numpy_Excercises_Session_2 (1).ipynb",
      "provenance": [],
      "include_colab_link": true
    },
    "kernelspec": {
      "display_name": "Python 3",
      "language": "python",
      "name": "python3"
    },
    "language_info": {
      "codemirror_mode": {
        "name": "ipython",
        "version": 3
      },
      "file_extension": ".py",
      "mimetype": "text/x-python",
      "name": "python",
      "nbconvert_exporter": "python",
      "pygments_lexer": "ipython3",
      "version": "3.8.3"
    }
  },
  "cells": [
    {
      "cell_type": "markdown",
      "metadata": {
        "id": "view-in-github",
        "colab_type": "text"
      },
      "source": [
        "<a href=\"https://colab.research.google.com/github/lauraballesteros/enda_numpypluspandas/blob/numpy/Numpy_Excercises_Session_2_.ipynb\" target=\"_parent\"><img src=\"https://colab.research.google.com/assets/colab-badge.svg\" alt=\"Open In Colab\"/></a>"
      ]
    },
    {
      "cell_type": "code",
      "metadata": {
        "colab_type": "code",
        "id": "yZec5gdQULml",
        "colab": {}
      },
      "source": [
        "import numpy as np\n",
        "from random import randint"
      ],
      "execution_count": null,
      "outputs": []
    },
    {
      "cell_type": "markdown",
      "metadata": {
        "colab_type": "text",
        "id": "ocOTIuRvURnK"
      },
      "source": [
        "# Numpy Excercises - Session 2"
      ]
    },
    {
      "cell_type": "markdown",
      "metadata": {
        "colab_type": "text",
        "id": "zgZNJN1vre4L"
      },
      "source": [
        "### Exercise 1\n",
        "\n",
        "Reshape `array1` to 7x3 dimensions."
      ]
    },
    {
      "cell_type": "code",
      "metadata": {
        "colab_type": "code",
        "id": "GcnNr53nri09",
        "colab": {},
        "outputId": "c0e25c44-ae5f-45cb-a96f-88f63ea451a6"
      },
      "source": [
        "array1 = np.arange(0, 21)\n",
        "print(array1)\n",
        "array1 = array1.reshape((7,3))\n",
        "print(array1)"
      ],
      "execution_count": null,
      "outputs": [
        {
          "output_type": "stream",
          "text": [
            "[ 0  1  2  3  4  5  6  7  8  9 10 11 12 13 14 15 16 17 18 19 20]\n",
            "[[ 0  1  2]\n",
            " [ 3  4  5]\n",
            " [ 6  7  8]\n",
            " [ 9 10 11]\n",
            " [12 13 14]\n",
            " [15 16 17]\n",
            " [18 19 20]]\n"
          ],
          "name": "stdout"
        }
      ]
    },
    {
      "cell_type": "markdown",
      "metadata": {
        "colab_type": "text",
        "id": "LBXx2nR5uOdm"
      },
      "source": [
        "### Exercise 2\n",
        "\n",
        "Reshape `array2` into a 3D array of 3x3x3 dimensions."
      ]
    },
    {
      "cell_type": "code",
      "metadata": {
        "colab_type": "code",
        "id": "-ODB-hFEucck",
        "colab": {},
        "outputId": "b5cddd32-b550-42ea-a561-d325828094f2"
      },
      "source": [
        "array2 = np.arange(0, 27).reshape(9, 3)\n",
        "print(array2)\n",
        "array2 = array2.reshape(3,3,3)\n",
        "print(array2)"
      ],
      "execution_count": null,
      "outputs": [
        {
          "output_type": "stream",
          "text": [
            "[[ 0  1  2]\n",
            " [ 3  4  5]\n",
            " [ 6  7  8]\n",
            " [ 9 10 11]\n",
            " [12 13 14]\n",
            " [15 16 17]\n",
            " [18 19 20]\n",
            " [21 22 23]\n",
            " [24 25 26]]\n",
            "[[[ 0  1  2]\n",
            "  [ 3  4  5]\n",
            "  [ 6  7  8]]\n",
            "\n",
            " [[ 9 10 11]\n",
            "  [12 13 14]\n",
            "  [15 16 17]]\n",
            "\n",
            " [[18 19 20]\n",
            "  [21 22 23]\n",
            "  [24 25 26]]]\n"
          ],
          "name": "stdout"
        }
      ]
    },
    {
      "cell_type": "markdown",
      "metadata": {
        "colab_type": "text",
        "id": "zjohGksuysL3"
      },
      "source": [
        "### Exercise 3: Reshape vs Resize\n",
        "\n",
        "reshape and resize both do the same thin. So, what's the difference?\n",
        "\n",
        "Follow the instructions and find out.\n"
      ]
    },
    {
      "cell_type": "code",
      "metadata": {
        "colab_type": "code",
        "id": "RMefunZBypgP",
        "colab": {
          "base_uri": "https://localhost:8080/",
          "height": 84
        },
        "outputId": "ba36ebd7-4136-44d1-d5f6-24877dfecce6"
      },
      "source": [
        "# Run this cell without changing the code.\n",
        "array3 = np.arange(0, 9)\n",
        "\n",
        "array3.reshape((3, 3))\n",
        "print(array3)\n",
        "\n",
        "array3.resize((3, 3))\n",
        "print(array3)\n"
      ],
      "execution_count": null,
      "outputs": [
        {
          "output_type": "stream",
          "text": [
            "[0 1 2 3 4 5 6 7 8]\n",
            "[[0 1 2]\n",
            " [3 4 5]\n",
            " [6 7 8]]\n"
          ],
          "name": "stdout"
        }
      ]
    },
    {
      "cell_type": "code",
      "metadata": {
        "colab_type": "code",
        "id": "ReT0Y4Xo0M7k",
        "colab": {}
      },
      "source": [
        "# Question: What is the difference between reshape and resize\n",
        "\n",
        "a = \"resize returns a new copy of the array, while reshape changes the original array\"\n",
        "b = \"reshape returns a new copy of the array, while resize changes the original array\"\n",
        "c = \"both resize and reshape works in the same way with the original array\"\n"
      ],
      "execution_count": null,
      "outputs": []
    },
    {
      "cell_type": "markdown",
      "metadata": {
        "colab_type": "text",
        "id": "BzXy1g-4wYhJ"
      },
      "source": [
        "### Exercise 4\n",
        "\n",
        "Concatenate arrays `a`, `b`, and `c`."
      ]
    },
    {
      "cell_type": "code",
      "metadata": {
        "colab_type": "code",
        "id": "jEziRUU6wniR",
        "colab": {},
        "outputId": "e8f0411b-ad2b-4928-d392-4d08360f4bff"
      },
      "source": [
        "a = np.arange(0, 3)\n",
        "b = np.arange(3, 6)\n",
        "c = np.arange(6, 9)\n",
        "array4 = np.concatenate([a,b,c],axis=0)\n",
        "print(array4)"
      ],
      "execution_count": null,
      "outputs": [
        {
          "output_type": "stream",
          "text": [
            "[0 1 2 3 4 5 6 7 8]\n"
          ],
          "name": "stdout"
        }
      ]
    },
    {
      "cell_type": "markdown",
      "metadata": {
        "colab_type": "text",
        "id": "UZf-j3DekNJ1"
      },
      "source": [
        "### Exercise 5\n",
        "\n",
        "Concatenate arrays `m1` and `m2` vertically."
      ]
    },
    {
      "cell_type": "code",
      "metadata": {
        "colab_type": "code",
        "id": "zWBry5m0i6Rd",
        "colab": {},
        "outputId": "b2372df2-1aad-453d-8659-2621a0b76241"
      },
      "source": [
        "m1 = np.array(\n",
        "    [\n",
        "      [1, 2, 3, 4],\n",
        "      [5, 6, 7, 8]\n",
        "    ]\n",
        ")\n",
        "\n",
        "m2 = np.array(\n",
        "    [\n",
        "      [9, 10, 11, 12],\n",
        "      [13, 14, 15, 16]\n",
        "    ]\n",
        ")\n",
        "\n",
        "array5 = np.vstack([m1,m2])\n",
        "print(array5)"
      ],
      "execution_count": null,
      "outputs": [
        {
          "output_type": "stream",
          "text": [
            "[[ 1  2  3  4]\n",
            " [ 5  6  7  8]\n",
            " [ 9 10 11 12]\n",
            " [13 14 15 16]]\n"
          ],
          "name": "stdout"
        }
      ]
    },
    {
      "cell_type": "markdown",
      "metadata": {
        "colab_type": "text",
        "id": "4qQ06IZ1k-TG"
      },
      "source": [
        "### Exercise 6\n",
        "\n",
        "Concatenate arrays `m1` and `m2` horizontally."
      ]
    },
    {
      "cell_type": "code",
      "metadata": {
        "colab_type": "code",
        "id": "jsy33sJ7lFN4",
        "colab": {},
        "outputId": "59dadb02-065c-4479-d3b1-caf2746a7c00"
      },
      "source": [
        "m1 = np.array(\n",
        "    [\n",
        "      [1, 2, 3, 4],\n",
        "      [5, 6, 7, 8]\n",
        "    ]\n",
        ")\n",
        "\n",
        "m2 = np.array(\n",
        "    [\n",
        "      [9, 10, 11, 12],\n",
        "      [13, 14, 15, 16]\n",
        "    ]\n",
        ")\n",
        "\n",
        "array6 = np.hstack([m1,m2])\n",
        "print(array5)\n"
      ],
      "execution_count": null,
      "outputs": [
        {
          "output_type": "stream",
          "text": [
            "[[ 1  2  3  4]\n",
            " [ 5  6  7  8]\n",
            " [ 9 10 11 12]\n",
            " [13 14 15 16]]\n"
          ],
          "name": "stdout"
        }
      ]
    },
    {
      "cell_type": "markdown",
      "metadata": {
        "colab_type": "text",
        "id": "EZzFNnxx26iu"
      },
      "source": [
        "### Exercise 7\n",
        "\n",
        "Get all the cells with value equals to `0` as a list of tuples.\n"
      ]
    },
    {
      "cell_type": "code",
      "metadata": {
        "colab_type": "code",
        "id": "-_pITT1w3Mys",
        "colab": {},
        "outputId": "f2a0e690-c3fe-4cba-be35-281d14033eaa"
      },
      "source": [
        "matrix = np.array([\n",
        "    [1, 4, 7, 5, 0],\n",
        "    [0, 2, 9, 0, 1],\n",
        "    [3, 6, 0, 5, 3],\n",
        "    [7, 3, 0, 1, 0],\n",
        "    [3, 6, 1, 0, 4]\n",
        "])\n",
        "\n",
        "array7 = np.argwhere(matrix==0)\n",
        "print(array7)\n"
      ],
      "execution_count": null,
      "outputs": [
        {
          "output_type": "stream",
          "text": [
            "[[0 4]\n",
            " [1 0]\n",
            " [1 3]\n",
            " [2 2]\n",
            " [3 2]\n",
            " [3 4]\n",
            " [4 3]]\n"
          ],
          "name": "stdout"
        }
      ]
    },
    {
      "cell_type": "markdown",
      "metadata": {
        "colab_type": "text",
        "id": "j15fagt-_9Sv"
      },
      "source": [
        "### Exercise 8\n",
        "\n",
        "Check the documentation for `np.diag` and `np.fliplr`. Use them to extract the diagonals arrays for `matrix`.\n",
        "\n"
      ]
    },
    {
      "cell_type": "code",
      "metadata": {
        "colab_type": "code",
        "id": "0C4VA6H6B0Qn",
        "colab": {},
        "outputId": "ca6c12cf-3612-4533-af07-dcefdf679379"
      },
      "source": [
        "diag1 =np.diag(matrix)\n",
        "print(diag1)\n",
        "diag2 =np.diag(np.fliplr(matrix))\n",
        "print(diag2)\n"
      ],
      "execution_count": null,
      "outputs": [
        {
          "output_type": "stream",
          "text": [
            "[1 2 0 1 4]\n",
            "[0 0 0 3 3]\n"
          ],
          "name": "stdout"
        }
      ]
    },
    {
      "cell_type": "markdown",
      "metadata": {
        "colab_type": "text",
        "id": "-4_ujD9rCCKg"
      },
      "source": [
        "### Exercise 9\n",
        "\n",
        "Get the values of the 3th column in `matrix` and the values for the 2th row in `matrix`. Both as numpy arrays.\n"
      ]
    },
    {
      "cell_type": "code",
      "metadata": {
        "colab_type": "code",
        "id": "75SKt_ydCfCr",
        "colab": {},
        "outputId": "7ad5f2b1-a161-4ed3-b78c-5556fcc5972a"
      },
      "source": [
        "column = np.array(matrix[0:5,2])\n",
        "print(column)\n",
        "row = np.array(matrix[1,0:5])\n",
        "print(row)"
      ],
      "execution_count": null,
      "outputs": [
        {
          "output_type": "stream",
          "text": [
            "[7 9 0 0 1]\n",
            "[0 2 9 0 1]\n"
          ],
          "name": "stdout"
        }
      ]
    },
    {
      "cell_type": "markdown",
      "metadata": {
        "colab_type": "text",
        "id": "FAYxMRG4jJUt"
      },
      "source": [
        "## Exercise 10\n",
        "\n",
        "Create a new matrix ***x*** from ***a*** and ***m*** with the folowing structure:\n",
        "\n",
        "\n",
        "\n",
        "```\n",
        "array([[4, 4, 5, 4, 4],\n",
        "       [4, 4, 5, 4, 4],\n",
        "       [4, 4, 5, 4, 4]])\n",
        "```\n",
        "\n"
      ]
    },
    {
      "cell_type": "code",
      "metadata": {
        "colab_type": "code",
        "id": "n_pobdHRjIVl",
        "colab": {},
        "outputId": "a3989cca-9f57-4acf-adb5-8b1ff44c7740"
      },
      "source": [
        "a = np.full((3, 1), 5)\n",
        "m = np.full((3, 4), 4)\n",
        "\n",
        "x=np.hsplit(m,[2])\n",
        "x=np.array(x[0])\n",
        "x=np.hstack([x,a])\n",
        "x=np.hstack([x,x[0:3,0:2]])\n",
        "\n",
        "x"
      ],
      "execution_count": null,
      "outputs": [
        {
          "output_type": "execute_result",
          "data": {
            "text/plain": [
              "array([[4, 4, 5, 4, 4],\n",
              "       [4, 4, 5, 4, 4],\n",
              "       [4, 4, 5, 4, 4]])"
            ]
          },
          "metadata": {
            "tags": []
          },
          "execution_count": 21
        }
      ]
    },
    {
      "cell_type": "markdown",
      "metadata": {
        "colab_type": "text",
        "id": "5FkJzPeGAZMv"
      },
      "source": [
        "## Exercise 11\n",
        "\n",
        "Given a:\n",
        "\n",
        "```\n",
        "a = array([[1],\n",
        "       [1],\n",
        "       [2],\n",
        "       [4]])\n",
        "```\n",
        "\n",
        "Create a new array **b** with the following structure:\n",
        "\n",
        "```\n",
        "np.array([\n",
        "  [1, 0, 0],\n",
        "  [1, 0, 0],\n",
        "  [0, 1, 0],\n",
        "  [0, 0, 1],\n",
        "])\n",
        "```\n",
        "Do you detect the pattern? Which operation do you need to create this structure.?\n",
        "\n",
        "\n"
      ]
    },
    {
      "cell_type": "code",
      "metadata": {
        "colab_type": "code",
        "id": "FqBLf9h6AdRo",
        "colab": {},
        "outputId": "b5af99ce-0835-4e01-a115-7512353ad828"
      },
      "source": [
        "# one hot encode excersise for numpy \n",
        "a=np.array([[1],[1],[2],[4]])\n",
        "b=np.zeros([4,3],dtype=int)\n",
        "indexes=np.array([int(np.log2(i)) for i in a])\n",
        "\n",
        "for j in range(0,4):\n",
        "    b[j,indexes[j]]=1\n",
        "b"
      ],
      "execution_count": null,
      "outputs": [
        {
          "output_type": "execute_result",
          "data": {
            "text/plain": [
              "array([[1, 0, 0],\n",
              "       [1, 0, 0],\n",
              "       [0, 1, 0],\n",
              "       [0, 0, 1]])"
            ]
          },
          "metadata": {
            "tags": []
          },
          "execution_count": 22
        }
      ]
    },
    {
      "cell_type": "markdown",
      "metadata": {
        "colab_type": "text",
        "id": "ZRGKiKtAw-NO"
      },
      "source": [
        "# Challenge, Tic Tac Toe\n"
      ]
    },
    {
      "cell_type": "code",
      "metadata": {
        "colab_type": "code",
        "id": "zXFw_11UxFYb",
        "colab": {}
      },
      "source": [
        "from random import randint\n",
        "\n",
        "cell = {\n",
        "    0: ' ',\n",
        "    1: 'X',\n",
        "    2: 'O'\n",
        "}\n",
        "\n",
        "def print_board():\n",
        "  print('-------------')\n",
        "  print(f'| {cell[game[0][0]]} | {cell[game[0][1]]} | {cell[game[0][2]]} |')\n",
        "  print('-------------')\n",
        "  print(f'| {cell[game[1][0]]} | {cell[game[1][1]]} | {cell[game[1][2]]} |')\n",
        "  print('-------------')\n",
        "  print(f'| {cell[game[2][0]]} | {cell[game[2][1]]} | {cell[game[2][2]]} |')\n",
        "  print('-------------')\n",
        "\n",
        "def skynet_move():\n",
        "  # Select a random empty cell in `game` array and set with value `2`.\n",
        "  # If no empty cells available, do nothing.\n",
        "    index = np.argwhere(game==0)\n",
        "    if index.size:\n",
        "        i, j = index[randint(0,index.shape[0]-1)]\n",
        "        game[i, j] = 2\n",
        "        return i, j\n",
        "    #else:\n",
        "        #print(\"no empty cells available\")\n",
        "    \n",
        "\n",
        "def win_move(player, r, c):\n",
        "  # Check if the player's move is a win move.\n",
        "  # A win move meets one of these conditions:\n",
        "  #   - All values at row `r` are equal to `player`.\n",
        "  #   - All values at column `c` are equal to `player`.\n",
        "  #   - All values at main diagonal ((0, 0) to (2, 2)) are equal to  `player`.\n",
        "  #   - All values at second diagonal ((2, 0) to (0, 2)) are equal to  `player`.\n",
        "  # Return True if one of the conditions are met, False otherwise.\n",
        "    global winner\n",
        "    if np.all(game[r, :] == player):\n",
        "        winner = True\n",
        "    elif np.all(game[:, c] == player):\n",
        "        winner = True\n",
        "    elif np.all(np.diagonal(game) == player):\n",
        "        winner = True\n",
        "    elif np.all(np.fliplr(game).diagonal() == player):\n",
        "        winner = True\n",
        "    else:\n",
        "        winner = False\n",
        "    return winner\n",
        "\n",
        "\n",
        "def human_move(r, c):\n",
        "  # Set value `1` at game[r][c] if the cell if empty and return True.\n",
        "  # If cell is not empty print \"Cell is not empty\" and return False.\n",
        "    if game[r, c] != 0:\n",
        "        print(\"Cell is not empty\")\n",
        "        return False\n",
        "    else: \n",
        "        game[r, c] = 1\n",
        "        return True\n",
        "        \n",
        "\n",
        "def winner_exists():\n",
        "  # If one of the players has already won the game, return True.\n",
        "  # Return False otherwise.\n",
        "    if winner:\n",
        "        return True\n",
        "    else:\n",
        "        return False\n",
        "\n",
        "\n",
        "def is_game_on():\n",
        "  # This method checks the current status of the game.\n",
        "  # A game is on if meets one of two conditios:\n",
        "  #  - There is still available cells.\n",
        "  #  - There is still no winners.  \n",
        "    index = np.argwhere(game==0)\n",
        "    if winner_exists() or index.size == 0:\n",
        "        return False\n",
        "    else:\n",
        "        return True\n"
      ],
      "execution_count": null,
      "outputs": []
    },
    {
      "cell_type": "code",
      "metadata": {
        "colab_type": "code",
        "id": "wmWZQJFA2Hl5",
        "colab": {},
        "outputId": "7922bc99-61ac-4ffa-9cb6-9f73ce723694"
      },
      "source": [
        "# Run this cell to restart the game.\n",
        "\n",
        "# Create a 3x3 array with zero values.\n",
        "winner = False\n",
        "game = np.zeros([3,3], dtype=int)\n",
        "game"
      ],
      "execution_count": null,
      "outputs": [
        {
          "output_type": "execute_result",
          "data": {
            "text/plain": [
              "array([[0, 0, 0],\n",
              "       [0, 0, 0],\n",
              "       [0, 0, 0]])"
            ]
          },
          "metadata": {
            "tags": []
          },
          "execution_count": 24
        }
      ]
    },
    {
      "cell_type": "code",
      "metadata": {
        "cellView": "both",
        "colab_type": "code",
        "id": "ErKaf7bw2X2Z",
        "colab": {},
        "outputId": "bc899412-09b8-4b48-d4e3-7b5dad4431fe"
      },
      "source": [
        "#@title Tic tac toe controls\n",
        "#@markdown Select the cell for your next move!.\n",
        "row_value = \"1\" #@param [\"0\", \"1\", \"2\"] \n",
        "column_value = \"0\" #@param [\"0\", \"1\", \"2\"]\n",
        "\n",
        "row = int(row_value)\n",
        "column = int(column_value)\n",
        "if(is_game_on()):\n",
        "  status = human_move(row, column)\n",
        "  if(win_move(1, row, column)):\n",
        "    print('Human wins')\n",
        "  elif(status):\n",
        "    row,column=skynet_move()\n",
        "    if(win_move(2, row, column)):\n",
        "      print('Skynet wins')\n",
        "else:\n",
        "  print('Game over.')\n",
        "  \n",
        "print_board()"
      ],
      "execution_count": null,
      "outputs": [
        {
          "output_type": "stream",
          "text": [
            "-------------\n",
            "|   |   |   |\n",
            "-------------\n",
            "| X |   |   |\n",
            "-------------\n",
            "|   |   | O |\n",
            "-------------\n"
          ],
          "name": "stdout"
        }
      ]
    },
    {
      "cell_type": "markdown",
      "metadata": {
        "colab_type": "text",
        "id": "2Gl4XHf6JN24"
      },
      "source": [
        "# Challenge: Basic data analysis\n",
        "\n",
        "The following numpy array is taken from the a census dataset. Every column in this matrix contains some demografic information. For this exercise You will focus in the following columns:\n",
        "\n",
        "*   Column[0]: Age\n",
        "*   Column[1]: workclass\n",
        "*   Column[3]: education\n",
        "*   Column[5]: marital-status\n",
        "*   Column[9]: sex\n",
        "*   Column[10]: capital-gain\n",
        "\n",
        "Please find the following information:\n",
        "\n",
        "\n",
        "*   Age average\n",
        "*   Types of workclass, education and marital-status\n",
        "*   How many records are for male\n",
        "*   How many records are for female\n",
        "*   How many females are above age of 30\n",
        "*   Avergage of capital-gain for males\n",
        "*   Avergage of capital-gain for females\n",
        "\n",
        "\n",
        "\n",
        "\n",
        "\n"
      ]
    },
    {
      "cell_type": "code",
      "metadata": {
        "colab_type": "code",
        "id": "6deAST4wJiHf",
        "colab": {
          "base_uri": "https://localhost:8080/",
          "height": 168
        },
        "outputId": "7f171d4d-6549-4a27-aabf-e443b14db9a5"
      },
      "source": [
        "# this one is missing\n",
        "#First upload file \"census.npy\" befor running this cell.\n",
        "with open('census.npy', 'rb') as f:\n",
        "  census_data = np.load(f, allow_pickle=True)\n",
        "census_data"
      ],
      "execution_count": null,
      "outputs": [
        {
          "output_type": "execute_result",
          "data": {
            "text/plain": [
              "array([[50, ' Self-emp-not-inc', 83311, ..., 13, ' United-States',\n",
              "        ' <=50K'],\n",
              "       [38, ' Private', 215646, ..., 40, ' United-States', ' <=50K'],\n",
              "       [53, ' Private', 234721, ..., 40, ' United-States', ' <=50K'],\n",
              "       ...,\n",
              "       [58, ' Private', 151910, ..., 40, ' United-States', ' <=50K'],\n",
              "       [22, ' Private', 201490, ..., 20, ' United-States', ' <=50K'],\n",
              "       [52, ' Self-emp-inc', 287927, ..., 40, ' United-States', ' >50K']],\n",
              "      dtype=object)"
            ]
          },
          "metadata": {
            "tags": []
          },
          "execution_count": 26
        }
      ]
    }
  ]
}